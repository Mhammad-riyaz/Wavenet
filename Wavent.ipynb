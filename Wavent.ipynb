{
  "nbformat": 4,
  "nbformat_minor": 0,
  "metadata": {
    "colab": {
      "provenance": [],
      "authorship_tag": "ABX9TyOqxyQjSAHag2+7x505nLAf",
      "include_colab_link": true
    },
    "kernelspec": {
      "name": "python3",
      "display_name": "Python 3"
    },
    "language_info": {
      "name": "python"
    }
  },
  "cells": [
    {
      "cell_type": "markdown",
      "metadata": {
        "id": "view-in-github",
        "colab_type": "text"
      },
      "source": [
        "<a href=\"https://colab.research.google.com/github/Mhammad-riyaz/Wavenet/blob/main/Wavent.ipynb\" target=\"_parent\"><img src=\"https://colab.research.google.com/assets/colab-badge.svg\" alt=\"Open In Colab\"/></a>"
      ]
    },
    {
      "cell_type": "code",
      "execution_count": null,
      "metadata": {
        "id": "woDcpgIUnvs1"
      },
      "outputs": [],
      "source": [
        "import torch\n",
        "import torch.nn.functional as F\n",
        "import matplotlib.pyplot as plt\n",
        "%matplotlib inline"
      ]
    },
    {
      "cell_type": "code",
      "source": [
        "words = open(\"names.txt\").read().splitlines()\n",
        "print(words[:8])\n",
        "block_size = 3\n",
        "chars = sorted(list(set(''.join(words))))\n",
        "stoi = {s:i+1 for i,s in enumerate(chars)}\n",
        "stoi['<S>'] = 0\n",
        "stoi['<E>'] = 27\n",
        "itos = {i:s for s,i in stoi.items()}\n",
        "print(itos)\n",
        "vocab_size = len(itos)\n",
        "print(vocab_size)"
      ],
      "metadata": {
        "colab": {
          "base_uri": "https://localhost:8080/"
        },
        "id": "37FurMQ1n7rH",
        "outputId": "d64211fb-4a0c-4588-f02e-a3570ebb3ac1"
      },
      "execution_count": null,
      "outputs": [
        {
          "output_type": "stream",
          "name": "stdout",
          "text": [
            "['emma', 'olivia', 'ava', 'isabella', 'sophia', 'charlotte', 'mia', 'amelia']\n",
            "{1: 'a', 2: 'b', 3: 'c', 4: 'd', 5: 'e', 6: 'f', 7: 'g', 8: 'h', 9: 'i', 10: 'j', 11: 'k', 12: 'l', 13: 'm', 14: 'n', 15: 'o', 16: 'p', 17: 'q', 18: 'r', 19: 's', 20: 't', 21: 'u', 22: 'v', 23: 'w', 24: 'x', 25: 'y', 26: 'z', 0: '<S>', 27: '<E>'}\n",
            "28\n"
          ]
        }
      ]
    },
    {
      "cell_type": "code",
      "source": [
        " # build the dataset\n",
        "def build_dataset(words):\n",
        "  X,Y = [],[]\n",
        "  for w in words:\n",
        "    # print(w)\n",
        "    context = [0] * block_size\n",
        "    for ch in list(w)+['<E>']:\n",
        "      ix = stoi[ch]\n",
        "      X.append(context)\n",
        "      Y.append(ix)\n",
        "      # print(''.join(itos[i] for i in context), '--->',itos[ix])\n",
        "      context = context[1:] + [ix]\n",
        "      # print(context)\n",
        "  X = torch.tensor(X)\n",
        "  Y = torch.tensor(Y)\n",
        "  print(X.shape,Y.shape)\n",
        "  return X,Y\n",
        "\n",
        "import random\n",
        "random.shuffle(words)\n",
        "random.seed(42)\n",
        "n1 = int(0.8 * len(words))  # 80% of the words\n",
        "n2 = int(0.9 * len(words))  # 90% of the words\n",
        "\n",
        "Xtr,Ytr = build_dataset(words[:n1])\n",
        "Xdev,Ydev = build_dataset(words[n1:n2])\n",
        "Xte,Yte = build_dataset(words[n2:])"
      ],
      "metadata": {
        "colab": {
          "base_uri": "https://localhost:8080/"
        },
        "id": "H2UH5JgOn7ny",
        "outputId": "9c18d172-37df-4639-d3a9-e8e7bf83e772"
      },
      "execution_count": null,
      "outputs": [
        {
          "output_type": "stream",
          "name": "stdout",
          "text": [
            "torch.Size([182381, 3]) torch.Size([182381])\n",
            "torch.Size([22866, 3]) torch.Size([22866])\n",
            "torch.Size([22899, 3]) torch.Size([22899])\n"
          ]
        }
      ]
    },
    {
      "cell_type": "code",
      "source": [
        "\n",
        "class Linear:\n",
        "\n",
        "  def __init__ (self,fan_in,fan_out,bias=True):\n",
        "    self.weight = torch.randn((fan_in,fan_out)) / fan_in**0.5 # fixing the staturated tanh with the first method (Kaiming He)\n",
        "    self.bias = torch.zeros(fan_out) if bias else None\n",
        "\n",
        "  def __call__(self,x):\n",
        "    self.out = x @ self.weight\n",
        "    if self.bias is not None:\n",
        "      self.out+=self.bias\n",
        "    return self.out\n",
        "\n",
        "  def parameters(self):\n",
        "    return [self.weight] + ([] if self.bias is None else [self.bias])\n",
        "\n",
        "class BatchNorm1d:\n",
        "\n",
        "  def __init__(self, dim,eps=1e-5,momentum=0.1):\n",
        "    self.eps = eps\n",
        "    self.momentum = momentum\n",
        "    self.training = True\n",
        "    # parameters trained with backprop\n",
        "    self.gamma = torch.ones(dim)\n",
        "    self.beta = torch.zeros(dim)\n",
        "    # buffers (trained with running momentum update)\n",
        "    self.running_mean = torch.zeros(dim)\n",
        "    self.running_var = torch.ones(dim)\n",
        "\n",
        "  def __call__ (self,x):\n",
        "    # calculate the forward pass\n",
        "    if self.training:\n",
        "      if x.ndim == 2 :\n",
        "        dim = 0\n",
        "      elif x.ndim == 3:\n",
        "        dim = (0,1)\n",
        "      xmean = x.mean(dim, keepdim=True) # batch mean\n",
        "      xvar = x.var(dim, keepdim=True) # batch variance\n",
        "    else :\n",
        "      xmean = self.running_mean\n",
        "      xvar = self.running_var\n",
        "    xhat = (x-xmean) / torch.sqrt(xvar + self.eps) # normalize to unit variance\n",
        "    self.out = self.gamma * xhat + self.beta\n",
        "    # update the buffers\n",
        "    if self.training:\n",
        "      with torch.no_grad():\n",
        "        self.running_mean = (1-self.momentum) * self.running_mean + self.momentum * xmean\n",
        "        self.running_var = (1-self.momentum) * self.running_var + self.momentum * xvar\n",
        "    return self.out\n",
        "\n",
        "  def parameters(self):\n",
        "    return [self.gamma,self.beta]\n",
        "\n",
        "class Tanh:\n",
        "  def __call__ (self,x):\n",
        "    self.out = torch.tanh(x)\n",
        "    return self.out\n",
        "  def parameters(self):\n",
        "    return []\n"
      ],
      "metadata": {
        "id": "4kiQ_K-Kn7lZ"
      },
      "execution_count": null,
      "outputs": []
    },
    {
      "cell_type": "code",
      "source": [
        "# Important Note :\n",
        "# We are not using biased method for calculating the variance, so while sampling we get inf as the probability because the n becomes\n",
        "# one as the input in the sample will be one and we will be basically dividing with 0, so we should make sure that before sampling\n",
        "# we have to make the training false to stop the variance calculation."
      ],
      "metadata": {
        "id": "_NSolJYD-zZE"
      },
      "execution_count": null,
      "outputs": []
    },
    {
      "cell_type": "code",
      "source": [
        "torch.manual_seed(42) # global seed for reproducibility"
      ],
      "metadata": {
        "colab": {
          "base_uri": "https://localhost:8080/"
        },
        "id": "9biPmzfJqli6",
        "outputId": "08b788a0-cf7c-46e8-80e1-b943ae8735aa"
      },
      "execution_count": null,
      "outputs": [
        {
          "output_type": "execute_result",
          "data": {
            "text/plain": [
              "<torch._C.Generator at 0x789117b2ccb0>"
            ]
          },
          "metadata": {},
          "execution_count": 8
        }
      ]
    },
    {
      "cell_type": "code",
      "source": [
        "n_embd = 10 # the dimensionality of the character embedding vectors\n",
        "n_hidden = 200 # the number of neurons in the hidden layer of the MLP\n",
        "\n",
        "C = torch.randn((vocab_size,n_embd))\n",
        "\n",
        "layers = [\n",
        "    Linear(n_embd*block_size,n_hidden,bias=False), BatchNorm1d(n_hidden), Tanh(),\n",
        "    Linear(n_hidden,vocab_size),\n",
        "]\n",
        "\n",
        "with torch.no_grad():\n",
        "  # changing this to gamma because it the one that interact with the ouput\n",
        "  layers[-1].weight *= 0.1\n",
        "\n",
        "\n",
        "parameters = [C] + [p for layer in layers for p in layer.parameters()]\n",
        "print(sum(p.nelement() for p in parameters)) #  total number of parameters\n",
        "for p in parameters:\n",
        "  p.requires_grad = True\n"
      ],
      "metadata": {
        "colab": {
          "base_uri": "https://localhost:8080/"
        },
        "id": "FK6fYLagn7jD",
        "outputId": "8a60832b-6a0e-4956-e1f5-95bf1115fa36"
      },
      "execution_count": null,
      "outputs": [
        {
          "output_type": "stream",
          "name": "stdout",
          "text": [
            "12308\n"
          ]
        }
      ]
    },
    {
      "cell_type": "code",
      "source": [
        "# same optimization as last time\n",
        "\n",
        "max_steps = 200_000\n",
        "batch_size = 32\n",
        "lossi= []\n",
        "ud = []\n",
        "\n",
        "for i in range(max_steps):\n",
        "\n",
        "  # mini-batch construct\n",
        "  ix = torch.randint(0, Xtr.shape[0], (batch_size,))\n",
        "  Xb, Yb = Xtr[ix], Ytr[ix]\n",
        "\n",
        "  # forward pass\n",
        "  emb = C[Xb]\n",
        "  x = emb.view(emb.shape[0],-1) # concatenate the vectors\n",
        "  for layer in layers:\n",
        "    x = layer(x)\n",
        "  loss = F.cross_entropy(x,Yb) # loss function\n",
        "\n",
        "\n",
        "  # backward pass\n",
        "  for layer in layers:\n",
        "    layer.out.retain_grad() # AFTER DEBUG: would take out retain_graph\n",
        "  for p in parameters:\n",
        "    p.grad = None\n",
        "  loss.backward()\n",
        "\n",
        "  # update\n",
        "  lr = 0.1 if i < 100000 else 0.01 # step learning rate decay\n",
        "  for p in parameters:\n",
        "    p.data += -lr * p.grad\n",
        "\n",
        "  # track stats\n",
        "  if i%10000 == 0:\n",
        "    print(f'{i:7d}/{max_steps:7d}:{loss.item():.4f}')\n",
        "  lossi.append(loss.log10().item())\n",
        "\n",
        "\n",
        "  # if i > 1000:\n",
        "  #   break"
      ],
      "metadata": {
        "colab": {
          "base_uri": "https://localhost:8080/"
        },
        "id": "oU9K7SRtn7gK",
        "outputId": "33149d54-054a-484a-b9b9-cde586b44c24"
      },
      "execution_count": null,
      "outputs": [
        {
          "output_type": "stream",
          "name": "stdout",
          "text": [
            "      0/ 200000:3.3404\n",
            "  10000/ 200000:2.3626\n",
            "  20000/ 200000:2.3568\n",
            "  30000/ 200000:2.4513\n",
            "  40000/ 200000:2.3445\n",
            "  50000/ 200000:2.0348\n",
            "  60000/ 200000:1.7929\n",
            "  70000/ 200000:2.2090\n",
            "  80000/ 200000:2.2117\n",
            "  90000/ 200000:2.1802\n",
            " 100000/ 200000:2.3821\n",
            " 110000/ 200000:1.8679\n",
            " 120000/ 200000:2.2391\n",
            " 130000/ 200000:2.2611\n",
            " 140000/ 200000:2.0463\n",
            " 150000/ 200000:1.8650\n",
            " 160000/ 200000:2.0164\n",
            " 170000/ 200000:2.1613\n",
            " 180000/ 200000:2.0466\n",
            " 190000/ 200000:1.8239\n"
          ]
        }
      ]
    },
    {
      "cell_type": "code",
      "source": [
        "plt.plot(lossi)"
      ],
      "metadata": {
        "colab": {
          "base_uri": "https://localhost:8080/",
          "height": 447
        },
        "id": "pY3yAld3n7dh",
        "outputId": "0e33d9be-ae0e-4659-b125-e05f0cb780ab"
      },
      "execution_count": null,
      "outputs": [
        {
          "output_type": "execute_result",
          "data": {
            "text/plain": [
              "[<matplotlib.lines.Line2D at 0x789039822a20>]"
            ]
          },
          "metadata": {},
          "execution_count": 11
        },
        {
          "output_type": "display_data",
          "data": {
            "text/plain": [
              "<Figure size 640x480 with 1 Axes>"
            ],
            "image/png": "[encoded data removed]"
          },
          "metadata": {}
        }
      ]
    },
    {
      "cell_type": "code",
      "source": [
        "# The loss plot looks crazy because the 32 batch size is very small, we can get sometimes lucky/unlucky because of the examples in the\n",
        "# batch so it creates a thick plot."
      ],
      "metadata": {
        "id": "8JXSKMtv0Wug"
      },
      "execution_count": null,
      "outputs": []
    },
    {
      "cell_type": "code",
      "source": [
        "plt.plot(torch.tensor(lossi).view(-1,1000).mean(1))"
      ],
      "metadata": {
        "id": "a49KWlfrxA66",
        "colab": {
          "base_uri": "https://localhost:8080/",
          "height": 447
        },
        "outputId": "a37c54ef-822b-4245-cb21-47f73b3c8c7a"
      },
      "execution_count": null,
      "outputs": [
        {
          "output_type": "execute_result",
          "data": {
            "text/plain": [
              "[<matplotlib.lines.Line2D at 0x7890394a1c70>]"
            ]
          },
          "metadata": {},
          "execution_count": 13
        },
        {
          "output_type": "display_data",
          "data": {
            "text/plain": [
              "<Figure size 640x480 with 1 Axes>"
            ],
            "image/png": "[encoded data removed]"
          },
          "metadata": {}
        }
      ]
    },
    {
      "cell_type": "code",
      "source": [
        "# the plot looks descent, basically we took the mean of a 1000 columns in 200 rows to get a good summary."
      ],
      "metadata": {
        "id": "GDVJXdLaxA3c"
      },
      "execution_count": null,
      "outputs": []
    },
    {
      "cell_type": "code",
      "source": [
        "# put layers into eval mode (needed for batchnorm espcially)\n",
        "for layer in layers:\n",
        "  layer.training = False"
      ],
      "metadata": {
        "id": "K7obFJoz0WrJ"
      },
      "execution_count": null,
      "outputs": []
    },
    {
      "cell_type": "code",
      "source": [
        "@torch.no_grad() # this decorator disables gradient tracking which makes things efficient\n",
        "def split_loss(split):\n",
        "  x,y = {\n",
        "      'train' : (Xtr,Ytr),\n",
        "      'dev' : (Xdev,Ydev),\n",
        "      'test' : (Xte,Yte)\n",
        "  }[split]\n",
        "\n",
        "  emb = C[x]\n",
        "  x = emb.view(emb.shape[0],-1)\n",
        "  for layer in layers:\n",
        "    x = layer(x)\n",
        "  loss = F.cross_entropy(x,y)\n",
        "  print(split, loss.item())\n",
        "\n",
        "split_loss(\"train\")\n",
        "split_loss(\"dev\")"
      ],
      "metadata": {
        "id": "IiOh8koF0WpL",
        "colab": {
          "base_uri": "https://localhost:8080/"
        },
        "outputId": "da4a0ebf-bbb1-46f7-fd3f-b583cde03f9c"
      },
      "execution_count": null,
      "outputs": [
        {
          "output_type": "stream",
          "name": "stdout",
          "text": [
            "train 2.0643677711486816\n",
            "dev 2.1154749393463135\n"
          ]
        }
      ]
    },
    {
      "cell_type": "code",
      "source": [
        "# sampling from the model\n",
        "for i in range(20):\n",
        "\n",
        "  context = [0] * block_size\n",
        "  out = []\n",
        "  while True :\n",
        "    emb = C[torch.tensor([context])]\n",
        "    x = emb.view(emb.shape[0],-1)\n",
        "    for layer in layers:\n",
        "      x = layer(x)\n",
        "    logits = x\n",
        "    probs = F.softmax(logits,dim=1)\n",
        "    ix = torch.multinomial(probs,num_samples=1).item()\n",
        "    context = context[1:] + [ix]\n",
        "    out.append(ix)\n",
        "    if ix == 27:\n",
        "      break;\n",
        "  print(''.join(itos[i] for i in out ))"
      ],
      "metadata": {
        "id": "ib_YzZ6T0WeY",
        "colab": {
          "base_uri": "https://localhost:8080/"
        },
        "outputId": "29041aae-f048-43d8-93c4-9bc56cb5a5b0"
      },
      "execution_count": null,
      "outputs": [
        {
          "output_type": "stream",
          "name": "stdout",
          "text": [
            "aphlorah<E>\n",
            "jaolkerikye<E>\n",
            "eda<E>\n",
            "bene<E>\n",
            "izridd<E>\n",
            "kolde<E>\n",
            "kord<E>\n",
            "axyia<E>\n",
            "emikorianokhi<E>\n",
            "jose<E>\n",
            "trackentrej<E>\n",
            "gen<E>\n",
            "neva<E>\n",
            "ormyn<E>\n",
            "mery<E>\n",
            "zarienne<E>\n",
            "kailah<E>\n",
            "jamarius<E>\n",
            "jakynd<E>\n",
            "jeilohni<E>\n"
          ]
        }
      ]
    },
    {
      "cell_type": "code",
      "source": [
        "# the results are name like but not quite good"
      ],
      "metadata": {
        "id": "Wq9FBMxvn7bS"
      },
      "execution_count": null,
      "outputs": []
    },
    {
      "cell_type": "code",
      "source": [
        "# If we look at our forward pass the we are kind of abstracted the usage of layers  we are just looping over all the layer but\n",
        "# exactly not all the layers, we are using the C matrix outside and alos the view operation too, so we can add this to our classes."
      ],
      "metadata": {
        "id": "lvXM4AYDx0Aq"
      },
      "execution_count": null,
      "outputs": []
    },
    {
      "cell_type": "code",
      "source": [],
      "metadata": {
        "id": "1EdEaNe9ySMp"
      },
      "execution_count": null,
      "outputs": []
    },
    {
      "cell_type": "code",
      "source": [
        "\n",
        "class Linear:\n",
        "\n",
        "  def __init__ (self,fan_in,fan_out,bias=True):\n",
        "    self.weight = torch.randn((fan_in,fan_out)) / fan_in**0.5 # fixing the staturated tanh with the first method (Kaiming He)\n",
        "    self.bias = torch.zeros(fan_out) if bias else None\n",
        "\n",
        "  def __call__(self,x):\n",
        "    self.out = x @ self.weight\n",
        "    if self.bias is not None:\n",
        "      self.out+=self.bias\n",
        "    return self.out\n",
        "\n",
        "  def parameters(self):\n",
        "    return [self.weight] + ([] if self.bias is None else [self.bias])\n",
        "\n",
        "# --------------------------------------------------------------------------------------------------------------\n",
        "\n",
        "class BatchNorm1d:\n",
        "\n",
        "  def __init__(self, dim,eps=1e-5,momentum=0.1):\n",
        "    self.eps = eps\n",
        "    self.momentum = momentum\n",
        "    self.training = True\n",
        "    # parameters trained with backprop\n",
        "    self.gamma = torch.ones(dim)\n",
        "    self.beta = torch.zeros(dim)\n",
        "    # buffers (trained with running momentum update)\n",
        "    self.running_mean = torch.zeros(dim)\n",
        "    self.running_var = torch.ones(dim)\n",
        "\n",
        "  def __call__ (self,x):\n",
        "    # calculate the forward pass\n",
        "    if self.training:\n",
        "      if x.ndim == 2 :\n",
        "        dim = 0\n",
        "      elif x.ndim == 3:\n",
        "        dim = (0,1)\n",
        "      xmean = x.mean(dim, keepdim=True) # batch mean\n",
        "      xvar = x.var(dim, keepdim=True) # batch variance\n",
        "    else :\n",
        "      xmean = self.running_mean\n",
        "      xvar = self.running_var\n",
        "    xhat = (x-xmean) / torch.sqrt(xvar + self.eps) # normalize to unit variance\n",
        "    self.out = self.gamma * xhat + self.beta\n",
        "    # update the buffers\n",
        "    if self.training:\n",
        "      with torch.no_grad():\n",
        "        self.running_mean = (1-self.momentum) * self.running_mean + self.momentum * xmean\n",
        "        self.running_var = (1-self.momentum) * self.running_var + self.momentum * xvar\n",
        "    return self.out\n",
        "\n",
        "  def parameters(self):\n",
        "    return [self.gamma,self.beta]\n",
        "\n",
        "# --------------------------------------------------------------------------------------------------------------\n",
        "\n",
        "class Tanh:\n",
        "  def __call__ (self,x):\n",
        "    self.out = torch.tanh(x)\n",
        "    return self.out\n",
        "  def parameters(self):\n",
        "    return []\n",
        "\n",
        "# --------------------------------------------------------------------------------------------------------------\n",
        "\n",
        "class Embedding: # The C matrix\n",
        "\n",
        "  def __init__(self,num_embeddings,embedding_dim):\n",
        "    self.weight = torch.randn((num_embeddings,embedding_dim))\n",
        "\n",
        "  def __call__(self,IX):\n",
        "    self.out = self.weight[IX]\n",
        "    return self.out\n",
        "\n",
        "  def parameters(self):\n",
        "    return [self.weight]\n",
        "\n",
        "\n",
        "# --------------------------------------------------------------------------------------------------------------\n",
        "\n",
        "class Flatten: # The view operation for concatenation\n",
        "\n",
        "  def __call__(self,x):\n",
        "    self.out = x.view(x.shape[0],-1)\n",
        "    return self.out\n",
        "\n",
        "  def parameters(self):\n",
        "    return []\n",
        "\n",
        "#----------------------------------------------------------------------------------------------------------------\n",
        "\n",
        "class Sequential: # we are looping over the layers ourself and this can be abstracted to the pytorch concept of Containers.\n",
        "\n",
        "  def __init__(self,layers):\n",
        "    self.layers = layers\n",
        "\n",
        "  def __call__(self,x):\n",
        "    for layer in self.layers:\n",
        "      x = layer(x)\n",
        "    self.out = x\n",
        "    return self.out\n",
        "  def parameters(self):\n",
        "    return [p for layer in self.layers for p in layer.parameters()]\n"
      ],
      "metadata": {
        "id": "rLe4cbxWyiNM"
      },
      "execution_count": null,
      "outputs": []
    },
    {
      "cell_type": "code",
      "source": [
        "n_embd = 10 # the dimensionality of the character embedding vectors\n",
        "n_hidden = 200 # the number of neurons in the hidden layer of the MLP\n",
        "\n",
        "C = torch.randn((vocab_size,n_embd))\n",
        "model = Sequential([\n",
        "    Embedding(vocab_size,n_embd),\n",
        "    Flatten(),\n",
        "    Linear(n_embd*block_size,n_hidden,bias=False), BatchNorm1d(n_hidden), Tanh(),\n",
        "    Linear(n_hidden,vocab_size),\n",
        "])\n",
        "\n",
        "with torch.no_grad():\n",
        "  # changing this to gamma because it the one that interact with the ouput\n",
        "  model.layers[-1].weight *= 0.1\n",
        "\n",
        "\n",
        "parameters = model.parameters()\n",
        "print(sum(p.nelement() for p in parameters)) #  total number of parameters\n",
        "for p in parameters:\n",
        "  p.requires_grad = True\n"
      ],
      "metadata": {
        "id": "sBFeYq2PyiNM",
        "colab": {
          "base_uri": "https://localhost:8080/"
        },
        "outputId": "2c0e8c6a-97e3-48a8-fed3-2f872bf2c688"
      },
      "execution_count": null,
      "outputs": [
        {
          "output_type": "stream",
          "name": "stdout",
          "text": [
            "12308\n"
          ]
        }
      ]
    },
    {
      "cell_type": "code",
      "source": [
        "# same optimization as last time\n",
        "\n",
        "max_steps = 200_000\n",
        "batch_size = 32\n",
        "lossi= []\n",
        "ud = []\n",
        "\n",
        "for i in range(max_steps):\n",
        "\n",
        "  # mini-batch construct\n",
        "  ix = torch.randint(0, Xtr.shape[0], (batch_size,))\n",
        "  Xb, Yb = Xtr[ix], Ytr[ix]\n",
        "\n",
        "  # forward pass\n",
        "  logits = model(Xb)\n",
        "  loss = F.cross_entropy(logits,Yb) # loss function\n",
        "\n",
        "  # backward pass\n",
        "\n",
        "  for p in parameters:\n",
        "    p.grad = None\n",
        "  loss.backward()\n",
        "\n",
        "  # update\n",
        "  lr = 0.1 if i < 100000 else 0.01 # step learning rate decay\n",
        "  for p in parameters:\n",
        "    p.data += -lr * p.grad\n",
        "\n",
        "  # track stats\n",
        "  if i%10000 == 0:\n",
        "    print(f'{i:7d}/{max_steps:7d}:{loss.item():.4f}')\n",
        "  lossi.append(loss.log10().item())\n",
        "\n",
        "\n",
        "  # if i > 1000:\n",
        "  #   break"
      ],
      "metadata": {
        "id": "TOx3I_JAyiNM",
        "colab": {
          "base_uri": "https://localhost:8080/"
        },
        "outputId": "f4d5f288-0f82-4f9b-d5f2-729a2b407b2f"
      },
      "execution_count": null,
      "outputs": [
        {
          "output_type": "stream",
          "name": "stdout",
          "text": [
            "      0/ 200000:3.3463\n",
            "  10000/ 200000:2.1938\n",
            "  20000/ 200000:2.2574\n",
            "  30000/ 200000:1.9274\n",
            "  40000/ 200000:2.3040\n",
            "  50000/ 200000:2.5025\n",
            "  60000/ 200000:2.3613\n",
            "  70000/ 200000:1.6697\n",
            "  80000/ 200000:2.3833\n",
            "  90000/ 200000:2.3159\n",
            " 100000/ 200000:2.1375\n",
            " 110000/ 200000:2.3140\n",
            " 120000/ 200000:1.9929\n",
            " 130000/ 200000:2.0824\n",
            " 140000/ 200000:1.8452\n",
            " 150000/ 200000:2.1601\n",
            " 160000/ 200000:2.2649\n",
            " 170000/ 200000:2.1863\n",
            " 180000/ 200000:2.2165\n",
            " 190000/ 200000:2.1557\n"
          ]
        }
      ]
    },
    {
      "cell_type": "code",
      "source": [
        "@torch.no_grad() # this decorator disables gradient tracking which makes things efficient\n",
        "def split_loss(split):\n",
        "  x,y = {\n",
        "      'train' : (Xtr,Ytr),\n",
        "      'dev' : (Xdev,Ydev),\n",
        "      'test' : (Xte,Yte)\n",
        "  }[split]\n",
        "\n",
        "  logits = model(x)\n",
        "  loss = F.cross_entropy(logits,y)\n",
        "  print(split, loss.item())\n",
        "\n",
        "split_loss(\"train\")\n",
        "split_loss(\"dev\")"
      ],
      "metadata": {
        "id": "mDTKGAmz2cpM",
        "colab": {
          "base_uri": "https://localhost:8080/"
        },
        "outputId": "28e2ea8e-97f7-486f-98dd-bb9c07f903d0"
      },
      "execution_count": null,
      "outputs": [
        {
          "output_type": "stream",
          "name": "stdout",
          "text": [
            "train 2.065495014190674\n",
            "dev 2.112807512283325\n"
          ]
        }
      ]
    },
    {
      "cell_type": "code",
      "source": [
        "# put layers into eval mode (needed for batchnorm espcially)\n",
        "for layer in model.layers:\n",
        "  layer.training = False"
      ],
      "metadata": {
        "id": "3IXKUCAH2Qt1"
      },
      "execution_count": null,
      "outputs": []
    },
    {
      "cell_type": "code",
      "source": [
        "# sampling from the model\n",
        "for i in range(20):\n",
        "\n",
        "  context = [0] * block_size\n",
        "  out = []\n",
        "  while True :\n",
        "    x = torch.tensor([context])\n",
        "    logits = model(x)\n",
        "    probs = F.softmax(logits,dim=1)\n",
        "    ix = torch.multinomial(probs,num_samples=1).item()\n",
        "    context = context[1:] + [ix]\n",
        "    out.append(ix)\n",
        "    if ix == 27:\n",
        "      break;\n",
        "  print(''.join(itos[i] for i in out ))"
      ],
      "metadata": {
        "id": "PJuIQ9Nb2cpM",
        "colab": {
          "base_uri": "https://localhost:8080/"
        },
        "outputId": "9da5b409-47ec-462a-8e0e-d09cc90a537a"
      },
      "execution_count": null,
      "outputs": [
        {
          "output_type": "stream",
          "name": "stdout",
          "text": [
            "hayse<E>\n",
            "malizabisom<E>\n",
            "simmarro<E>\n",
            "anheire<E>\n",
            "sika<E>\n",
            "shika<E>\n",
            "emmehdemanex<E>\n",
            "kai<E>\n",
            "aimmaley<E>\n",
            "weer<E>\n",
            "joury<E>\n",
            "dion<E>\n",
            "dhacien<E>\n",
            "jamely<E>\n",
            "breonoelabaylah<E>\n",
            "keslaiha<E>\n",
            "branyia<E>\n",
            "shisabi<E>\n",
            "lilania<E>\n",
            "asan<E>\n"
          ]
        }
      ]
    },
    {
      "cell_type": "markdown",
      "source": [
        "![image.png](data:image/png;base64,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)"
      ],
      "metadata": {
        "id": "0--JYIXAWizw"
      }
    },
    {
      "cell_type": "code",
      "source": [
        "# So far so good, but there is a problem here we are taking the input and squashing the inputs to the single layer (hidden layer),\n",
        "# instead we squash them slowly in a hierarchial manner, we fuse the information from previous context slowly.\n",
        "# At each level we fust two consecutive elements (two characters, two bigrams ,two 4-grams etc)."
      ],
      "metadata": {
        "id": "v9X2hibhySE9"
      },
      "execution_count": null,
      "outputs": []
    },
    {
      "cell_type": "code",
      "source": [
        "block_size = 8 # changing the block size to 8\n",
        " # build the dataset\n",
        "def build_dataset(words):\n",
        "  X,Y = [],[]\n",
        "  for w in words:\n",
        "    # print(w)\n",
        "    context = [0] * block_size\n",
        "    for ch in list(w)+['<E>']:\n",
        "      ix = stoi[ch]\n",
        "      X.append(context)\n",
        "      Y.append(ix)\n",
        "      # print(''.join(itos[i] for i in context), '--->',itos[ix])\n",
        "      context = context[1:] + [ix]\n",
        "      # print(context)\n",
        "  X = torch.tensor(X)\n",
        "  Y = torch.tensor(Y)\n",
        "  print(X.shape,Y.shape)\n",
        "  return X,Y\n",
        "\n",
        "import random\n",
        "random.shuffle(words)\n",
        "random.seed(42)\n",
        "n1 = int(0.8 * len(words))  # 80% of the words\n",
        "n2 = int(0.9 * len(words))  # 90% of the words\n",
        "\n",
        "Xtr,Ytr = build_dataset(words[:n1])\n",
        "Xdev,Ydev = build_dataset(words[n1:n2])\n",
        "Xte,Yte = build_dataset(words[n2:])"
      ],
      "metadata": {
        "id": "joHvmwLwySCk",
        "colab": {
          "base_uri": "https://localhost:8080/"
        },
        "outputId": "246dc355-98e1-4e96-95d6-28bf854ef32d"
      },
      "execution_count": null,
      "outputs": [
        {
          "output_type": "stream",
          "name": "stdout",
          "text": [
            "torch.Size([182460, 8]) torch.Size([182460])\n",
            "torch.Size([22889, 8]) torch.Size([22889])\n",
            "torch.Size([22797, 8]) torch.Size([22797])\n"
          ]
        }
      ]
    },
    {
      "cell_type": "code",
      "source": [
        "n_embd = 10 # the dimensionality of the character embedding vectors\n",
        "n_hidden = 200 # the number of neurons in the hidden layer of the MLP\n",
        "\n",
        "C = torch.randn((vocab_size,n_embd))\n",
        "model = Sequential([\n",
        "    Embedding(vocab_size,n_embd),\n",
        "    Flatten(),\n",
        "    Linear(n_embd*block_size,n_hidden,bias=False), BatchNorm1d(n_hidden), Tanh(),\n",
        "    Linear(n_hidden,vocab_size),\n",
        "])\n",
        "\n",
        "with torch.no_grad():\n",
        "  # changing this to gamma because it the one that interact with the ouput\n",
        "  model.layers[-1].weight *= 0.1\n",
        "\n",
        "\n",
        "parameters = model.parameters()\n",
        "print(sum(p.nelement() for p in parameters)) #  total number of parameters\n",
        "for p in parameters:\n",
        "  p.requires_grad = True\n"
      ],
      "metadata": {
        "colab": {
          "base_uri": "https://localhost:8080/"
        },
        "id": "tgX7L8RSYgCs",
        "outputId": "d93efa46-d481-478a-fab1-03eda4fa91dd"
      },
      "execution_count": null,
      "outputs": [
        {
          "output_type": "stream",
          "name": "stdout",
          "text": [
            "22308\n"
          ]
        }
      ]
    },
    {
      "cell_type": "code",
      "source": [
        "# same optimization as last time\n",
        "\n",
        "max_steps = 200_000\n",
        "batch_size = 32\n",
        "lossi= []\n",
        "ud = []\n",
        "\n",
        "for i in range(max_steps):\n",
        "\n",
        "  # mini-batch construct\n",
        "  ix = torch.randint(0, Xtr.shape[0], (batch_size,))\n",
        "  Xb, Yb = Xtr[ix], Ytr[ix]\n",
        "\n",
        "  # forward pass\n",
        "  logits = model(Xb)\n",
        "  loss = F.cross_entropy(logits,Yb) # loss function\n",
        "\n",
        "  # backward pass\n",
        "\n",
        "  for p in parameters:\n",
        "    p.grad = None\n",
        "  loss.backward()\n",
        "\n",
        "  # update\n",
        "  lr = 0.1 if i < 100000 else 0.01 # step learning rate decay\n",
        "  for p in parameters:\n",
        "    p.data += -lr * p.grad\n",
        "\n",
        "  # track stats\n",
        "  if i%10000 == 0:\n",
        "    print(f'{i:7d}/{max_steps:7d}:{loss.item():.4f}')\n",
        "  lossi.append(loss.log10().item())\n",
        "\n",
        "\n",
        "  # if i > 1000:\n",
        "    # break"
      ],
      "metadata": {
        "colab": {
          "base_uri": "https://localhost:8080/"
        },
        "id": "hLxWcrVTYf_k",
        "outputId": "a6b31d51-c415-49e8-e199-44228f6a22f1"
      },
      "execution_count": null,
      "outputs": [
        {
          "output_type": "stream",
          "name": "stdout",
          "text": [
            "      0/ 200000:3.3415\n",
            "  10000/ 200000:2.3518\n",
            "  20000/ 200000:2.4108\n",
            "  30000/ 200000:1.8957\n",
            "  40000/ 200000:2.0352\n",
            "  50000/ 200000:2.3472\n",
            "  60000/ 200000:2.1280\n",
            "  70000/ 200000:1.5774\n",
            "  80000/ 200000:1.9621\n",
            "  90000/ 200000:2.1527\n",
            " 100000/ 200000:1.8436\n",
            " 110000/ 200000:1.8508\n",
            " 120000/ 200000:1.9573\n",
            " 130000/ 200000:1.9818\n",
            " 140000/ 200000:2.1476\n",
            " 150000/ 200000:2.4634\n",
            " 160000/ 200000:1.7249\n",
            " 170000/ 200000:1.6652\n",
            " 180000/ 200000:1.7657\n",
            " 190000/ 200000:1.6188\n"
          ]
        }
      ]
    },
    {
      "cell_type": "code",
      "source": [
        "split_loss(\"train\")\n",
        "split_loss(\"dev\")"
      ],
      "metadata": {
        "colab": {
          "base_uri": "https://localhost:8080/"
        },
        "id": "eH_b-Mg5Yf9S",
        "outputId": "b94056c9-4a13-41f0-c58c-bcfa1a386ca7"
      },
      "execution_count": null,
      "outputs": [
        {
          "output_type": "stream",
          "name": "stdout",
          "text": [
            "train 1.9224162101745605\n",
            "dev 2.0210511684417725\n"
          ]
        }
      ]
    },
    {
      "cell_type": "markdown",
      "source": [
        "# Performance Insights\n",
        "\n",
        "for context length 3 : we got **train-error : 2.06** and **dev-error : 2.11**\n",
        "\n",
        "for context length 8 : we got **train-error : 1.92** and **dev-error : 2.04**\n",
        "\n",
        "So we got some descent improvement just by increasing the context size."
      ],
      "metadata": {
        "id": "AzbB6RtKZTb0"
      }
    },
    {
      "cell_type": "code",
      "source": [
        "# lets take an example and inspect what happens in the forward pass"
      ],
      "metadata": {
        "id": "JnU-3xSOaQpS"
      },
      "execution_count": null,
      "outputs": []
    },
    {
      "cell_type": "code",
      "source": [
        "ix = torch.randint(0,Xtr.shape[0],(4,)) # lets inspect a batch of 4 examples\n",
        "\n",
        "Xb, Yb = Xtr[ix], Ytr[ix]\n",
        "logits = model(Xb)\n",
        "print(Xb.shape)\n",
        "Xb"
      ],
      "metadata": {
        "colab": {
          "base_uri": "https://localhost:8080/"
        },
        "id": "DtATQLNAYf7L",
        "outputId": "a07fe772-66bf-471f-bd73-b9cfd9850d9c"
      },
      "execution_count": null,
      "outputs": [
        {
          "output_type": "stream",
          "name": "stdout",
          "text": [
            "torch.Size([4, 8])\n"
          ]
        },
        {
          "output_type": "execute_result",
          "data": {
            "text/plain": [
              "tensor([[ 0,  0,  0,  0,  0, 13,  1, 18],\n",
              "        [ 0,  0,  0,  0,  0,  0,  0,  0],\n",
              "        [ 0,  0,  0,  0,  0,  0,  0,  0],\n",
              "        [ 0,  0,  0,  1,  1,  4,  9, 19]])"
            ]
          },
          "metadata": {},
          "execution_count": 32
        }
      ]
    },
    {
      "cell_type": "code",
      "source": [
        "model.layers[0].out.shape # output of our first layer, Embedding layer"
      ],
      "metadata": {
        "colab": {
          "base_uri": "https://localhost:8080/"
        },
        "id": "xgqbyYLDYf4b",
        "outputId": "de06e174-735a-4fcb-ff55-28ba4a47fd32"
      },
      "execution_count": null,
      "outputs": [
        {
          "output_type": "execute_result",
          "data": {
            "text/plain": [
              "torch.Size([4, 8, 10])"
            ]
          },
          "metadata": {},
          "execution_count": 33
        }
      ]
    },
    {
      "cell_type": "code",
      "source": [
        "model.layers[1].out.shape # output of Flatten layer"
      ],
      "metadata": {
        "colab": {
          "base_uri": "https://localhost:8080/"
        },
        "id": "IY5fcUSWa9Ts",
        "outputId": "c43afc71-fe70-4a65-f66f-8aaebbd772fa"
      },
      "execution_count": null,
      "outputs": [
        {
          "output_type": "execute_result",
          "data": {
            "text/plain": [
              "torch.Size([4, 80])"
            ]
          },
          "metadata": {},
          "execution_count": 34
        }
      ]
    },
    {
      "cell_type": "code",
      "source": [
        "model.layers[2].out.shape # output of Linear layer"
      ],
      "metadata": {
        "colab": {
          "base_uri": "https://localhost:8080/"
        },
        "id": "mC1DdEfda9QV",
        "outputId": "f5cbed0f-5f18-421b-ca06-61a825e3d610"
      },
      "execution_count": null,
      "outputs": [
        {
          "output_type": "execute_result",
          "data": {
            "text/plain": [
              "torch.Size([4, 200])"
            ]
          },
          "metadata": {},
          "execution_count": 35
        }
      ]
    },
    {
      "cell_type": "code",
      "source": [
        "# one thing to note here is in the linear layer basically we are doing this :\n",
        "(torch.randn((4,80)) @ torch.randn((80,200)) + torch.randn(200)).shape\n",
        "# the matrix multiplication in pytorch is quite powerful that the first matrix can be of any dimension, it will work, for example :\n",
        "(torch.randn((4,5,10,80)) @ torch.randn((80,200)) + torch.randn(200)).shape\n",
        "# the matrix multiplication works only on the last dimension of the first matrix\n",
        "# we can use this concept as it is convinient for us right now for the wavenet implementation"
      ],
      "metadata": {
        "colab": {
          "base_uri": "https://localhost:8080/"
        },
        "id": "YxXVKoBBa9Np",
        "outputId": "7ae823ef-e048-4f94-dcf6-f547a804ab20"
      },
      "execution_count": null,
      "outputs": [
        {
          "output_type": "execute_result",
          "data": {
            "text/plain": [
              "torch.Size([4, 5, 10, 200])"
            ]
          },
          "metadata": {},
          "execution_count": 36
        }
      ]
    },
    {
      "cell_type": "code",
      "source": [
        "# we have 8 characters as input: 1,2,3,4,5,6,7,8\n",
        "# we don't want to matrix multiply the 80 (from above example), instead we want to group these like (1,2) (3,4) (5,6) (7,8) with\n",
        "# the consecutive elements and all these four groups should be processed in parallel like batch dimension.\n",
        "# so we should process them 4 groups of each example and at the same time for all the 4 (batch size) example in parallel.\n",
        "# so instead of (torch.randn((4,80)) @ torch.randn((80,200)) + torch.randn(200)) feeding all in we need to only feed that two bigrams\n",
        "(torch.randn((4,4,20)) @ torch.randn((20,200)) + torch.randn(200)).shape\n",
        "# 1st four is the batch size with examples,\n",
        "# 2nd four is the 4 groups of the bigram and\n",
        "# the 3rd 20 is each bigrams (2 chars) 10 dim embedding\n",
        "\n",
        "# so we need to change the Flatten layer to output accordingly and also the linear layer to expect the input size correctly\n",
        "\n",
        "e = torch.randn((4,8,10))\n",
        "# x = int(e.shape[1]/2)             #       -------------> one way\n",
        "# print(e.view(e.shape[0],x,-1).shape)\n",
        "\n",
        "# list(range(10))[::2] # by this we can only get even places\n",
        "# list(range(10))[1::2] # by this we can only get odd places ----------------> another way\n",
        "# torch.cat([e[:,::2,:], e[:, 1::2,:]],dim=2).shape\n",
        "\n",
        "e.view((4,-1,20)).shape # -----> best way 😎\n"
      ],
      "metadata": {
        "colab": {
          "base_uri": "https://localhost:8080/"
        },
        "id": "vnthy30Ya9Lj",
        "outputId": "22fd8678-aa8f-41c5-e9cb-6f31966617f2"
      },
      "execution_count": null,
      "outputs": [
        {
          "output_type": "execute_result",
          "data": {
            "text/plain": [
              "torch.Size([4, 4, 20])"
            ]
          },
          "metadata": {},
          "execution_count": 37
        }
      ]
    },
    {
      "cell_type": "code",
      "source": [
        "\n",
        "class Linear:\n",
        "\n",
        "  def __init__ (self,fan_in,fan_out,bias=True):\n",
        "    self.weight = torch.randn((fan_in,fan_out)) / fan_in**0.5 # fixing the staturated tanh with the first method (Kaiming He)\n",
        "    self.bias = torch.zeros(fan_out) if bias else None\n",
        "\n",
        "  def __call__(self,x):\n",
        "    self.out = x @ self.weight\n",
        "    if self.bias is not None:\n",
        "      self.out+=self.bias\n",
        "    return self.out\n",
        "\n",
        "  def parameters(self):\n",
        "    return [self.weight] + ([] if self.bias is None else [self.bias])\n",
        "\n",
        "# --------------------------------------------------------------------------------------------------------------\n",
        "\n",
        "class BatchNorm1d:\n",
        "\n",
        "  def __init__(self, dim,eps=1e-5,momentum=0.1):\n",
        "    self.eps = eps\n",
        "    self.momentum = momentum\n",
        "    self.training = True\n",
        "    # parameters trained with backprop\n",
        "    self.gamma = torch.ones(dim)\n",
        "    self.beta = torch.zeros(dim)\n",
        "    # buffers (trained with running momentum update)\n",
        "    self.running_mean = torch.zeros(dim)\n",
        "    self.running_var = torch.ones(dim)\n",
        "\n",
        "  def __call__ (self,x):\n",
        "    # calculate the forward pass\n",
        "    if self.training:\n",
        "      if x.ndim == 2 : # if it's a 2 dim tensor\n",
        "        dim = 0\n",
        "      elif x.ndim == 3: # if it's a 3 dim tensor\n",
        "        dim = (0,1)\n",
        "      xmean = x.mean(dim, keepdim=True) # batch mean\n",
        "      xvar = x.var(dim, keepdim=True) # batch variance\n",
        "    else :\n",
        "      xmean = self.running_mean\n",
        "      xvar = self.running_var\n",
        "    xhat = (x-xmean) / torch.sqrt(xvar + self.eps) # normalize to unit variance\n",
        "    self.out = self.gamma * xhat + self.beta\n",
        "    # update the buffers\n",
        "    if self.training:\n",
        "      with torch.no_grad():\n",
        "        self.running_mean = (1-self.momentum) * self.running_mean + self.momentum * xmean\n",
        "        self.running_var = (1-self.momentum) * self.running_var + self.momentum * xvar\n",
        "    return self.out\n",
        "\n",
        "  def parameters(self):\n",
        "    return [self.gamma,self.beta]\n",
        "\n",
        "# --------------------------------------------------------------------------------------------------------------\n",
        "\n",
        "class Tanh:\n",
        "  def __call__ (self,x):\n",
        "    self.out = torch.tanh(x)\n",
        "    return self.out\n",
        "  def parameters(self):\n",
        "    return []\n",
        "\n",
        "# --------------------------------------------------------------------------------------------------------------\n",
        "\n",
        "class Embedding: # The C matrix\n",
        "\n",
        "  def __init__(self,num_embeddings,embedding_dim):\n",
        "    self.weight = torch.randn((num_embeddings,embedding_dim))\n",
        "\n",
        "  def __call__(self,IX):\n",
        "    self.out = self.weight[IX]\n",
        "    return self.out\n",
        "\n",
        "  def parameters(self):\n",
        "    return [self.weight]\n",
        "\n",
        "\n",
        "# --------------------------------------------------------------------------------------------------------------\n",
        "\n",
        "class FlattenConsecutive: # The view operation for concatenation\n",
        "\n",
        "  def __init__(self,n):\n",
        "    self.n = n\n",
        "\n",
        "  def __call__(self,x):\n",
        "    B, T, C = x.shape\n",
        "    x = x.view(B,T//self.n,C*self.n)\n",
        "    if x.shape[1] == 1: # dim handling\n",
        "      x = x.squeeze(1) #  after this we will get B X C*n matrix\n",
        "    self.out = x\n",
        "    return self.out\n",
        "\n",
        "  def parameters(self):\n",
        "    return []\n",
        "\n",
        "#----------------------------------------------------------------------------------------------------------------\n",
        "\n",
        "class Sequential: # we are looping over the layers ourself and this can be abstracted to the pytorch concept of Containers.\n",
        "\n",
        "  def __init__(self,layers):\n",
        "    self.layers = layers\n",
        "\n",
        "  def __call__(self,x):\n",
        "    for layer in self.layers:\n",
        "      x = layer(x)\n",
        "    self.out = x\n",
        "    return self.out\n",
        "  def parameters(self):\n",
        "    return [p for layer in self.layers for p in layer.parameters()]\n"
      ],
      "metadata": {
        "id": "ARnezbbpa9In"
      },
      "execution_count": null,
      "outputs": []
    },
    {
      "cell_type": "code",
      "source": [
        "# As we can see above in the Batchnorm layer while calculating the mean and variance we previously had 0 now we changed it according\n",
        "# to the ndim, the dimension\n",
        "\n",
        "\n",
        "# The problem we will have is when our matrix is two dimensional we are calculating the mean and variance effectively on the 0the dim\n",
        "# below we have 68 hidden layers, the input for the batch norm will be like this [32, 4, 68] we expect to have 68 means but we are having\n",
        "# 4X68 means, but we want to average it over 32X4, so we have to take the mean according to 0,1 dimmensions"
      ],
      "metadata": {
        "id": "SH5nj4IIAMPa"
      },
      "execution_count": null,
      "outputs": []
    },
    {
      "cell_type": "code",
      "source": [
        "n_embd = 10 # the dimensionality of the character embedding vectors\n",
        "n_hidden = 68 # changing the size to 68 because now the total number or params will be same as before.\n",
        "block_size = 8\n",
        "\n",
        "C = torch.randn((vocab_size,n_embd))\n",
        "model = Sequential([\n",
        "    Embedding(vocab_size,n_embd),\n",
        "    FlattenConsecutive(2), Linear(n_embd*2,n_hidden,bias=False), BatchNorm1d(n_hidden), Tanh(), # changing the input\n",
        "    FlattenConsecutive(2), Linear(n_hidden*2,n_hidden,bias=False), BatchNorm1d(n_hidden), Tanh(), # changing the input\n",
        "    FlattenConsecutive(2), Linear(n_hidden*2,n_hidden,bias=False), BatchNorm1d(n_hidden), Tanh(), # changing the input\n",
        "    Linear(n_hidden,vocab_size),\n",
        "])\n",
        "\n",
        "with torch.no_grad():\n",
        "  # changing this to gamma because it the one that interact with the ouput\n",
        "  model.layers[-1].weight *= 0.1\n",
        "\n",
        "\n",
        "parameters = model.parameters()\n",
        "print(sum(p.nelement() for p in parameters)) #  total number of parameters\n",
        "for p in parameters:\n",
        "  p.requires_grad = True\n"
      ],
      "metadata": {
        "colab": {
          "base_uri": "https://localhost:8080/"
        },
        "id": "v_ajuqtjYf2D",
        "outputId": "cb33bf05-a846-4b0a-9428-7344e13e19f9"
      },
      "execution_count": null,
      "outputs": [
        {
          "output_type": "stream",
          "name": "stdout",
          "text": [
            "22476\n"
          ]
        }
      ]
    },
    {
      "cell_type": "code",
      "source": [
        "ix = torch.randint(0,Xtr.shape[0],(4,)) # lets inspect a batch of 4 examples\n",
        "\n",
        "Xb, Yb = Xtr[ix], Ytr[ix]\n",
        "logits = model(Xb)\n",
        "print(Xb.shape)\n",
        "Xb"
      ],
      "metadata": {
        "colab": {
          "base_uri": "https://localhost:8080/"
        },
        "id": "-NKcdSOorACQ",
        "outputId": "36627d54-b05d-421d-8751-db00e13e1592"
      },
      "execution_count": null,
      "outputs": [
        {
          "output_type": "stream",
          "name": "stdout",
          "text": [
            "torch.Size([4, 8])\n"
          ]
        },
        {
          "output_type": "execute_result",
          "data": {
            "text/plain": [
              "tensor([[ 0,  0,  0,  0,  4, 12,  9, 25],\n",
              "        [ 0,  0,  0,  0, 21,  7, 15,  3],\n",
              "        [ 0,  0,  5, 12,  1, 14,  9,  1],\n",
              "        [ 0,  0,  0, 24, 25, 12, 15, 14]])"
            ]
          },
          "metadata": {},
          "execution_count": 41
        }
      ]
    },
    {
      "cell_type": "code",
      "source": [
        "for layer in model.layers:\n",
        "  print(layer.__class__.__name__,':',tuple(layer.out.shape))"
      ],
      "metadata": {
        "colab": {
          "base_uri": "https://localhost:8080/"
        },
        "id": "FxELrLKRq__Z",
        "outputId": "b0392c69-bae2-4854-bea0-555a6e353bb2"
      },
      "execution_count": null,
      "outputs": [
        {
          "output_type": "stream",
          "name": "stdout",
          "text": [
            "Embedding : (4, 8, 10)\n",
            "FlattenConsecutive : (4, 4, 20)\n",
            "Linear : (4, 4, 68)\n",
            "BatchNorm1d : (4, 4, 68)\n",
            "Tanh : (4, 4, 68)\n",
            "FlattenConsecutive : (4, 2, 136)\n",
            "Linear : (4, 2, 68)\n",
            "BatchNorm1d : (4, 2, 68)\n",
            "Tanh : (4, 2, 68)\n",
            "FlattenConsecutive : (4, 136)\n",
            "Linear : (4, 68)\n",
            "BatchNorm1d : (4, 68)\n",
            "Tanh : (4, 68)\n",
            "Linear : (4, 28)\n"
          ]
        }
      ]
    },
    {
      "cell_type": "code",
      "source": [
        "logits.shape"
      ],
      "metadata": {
        "colab": {
          "base_uri": "https://localhost:8080/"
        },
        "id": "w8-m2LY2q_85",
        "outputId": "175052ec-38a0-4e06-803d-5c4afef32ca4"
      },
      "execution_count": null,
      "outputs": [
        {
          "output_type": "execute_result",
          "data": {
            "text/plain": [
              "torch.Size([4, 28])"
            ]
          },
          "metadata": {},
          "execution_count": 43
        }
      ]
    },
    {
      "cell_type": "code",
      "source": [
        "# same optimization as last time\n",
        "\n",
        "max_steps = 200_000\n",
        "batch_size = 32\n",
        "lossi= []\n",
        "ud = []\n",
        "\n",
        "for i in range(max_steps):\n",
        "\n",
        "  # mini-batch construct\n",
        "  ix = torch.randint(0, Xtr.shape[0], (batch_size,))\n",
        "  Xb, Yb = Xtr[ix], Ytr[ix]\n",
        "\n",
        "  # forward pass\n",
        "  logits = model(Xb)\n",
        "  loss = F.cross_entropy(logits,Yb) # loss function\n",
        "\n",
        "  # backward pass\n",
        "\n",
        "  for p in parameters:\n",
        "    p.grad = None\n",
        "  loss.backward()\n",
        "\n",
        "  # update\n",
        "  lr = 0.1 if i < 100000 else 0.01 # step learning rate decay\n",
        "  for p in parameters:\n",
        "    p.data += -lr * p.grad\n",
        "\n",
        "  # track stats\n",
        "  if i%10000 == 0:\n",
        "    print(f'{i:7d}/{max_steps:7d}:{loss.item():.4f}')\n",
        "  lossi.append(loss.log10().item())\n",
        "\n",
        "\n",
        "  # if i > 1000:\n",
        "    # break"
      ],
      "metadata": {
        "colab": {
          "base_uri": "https://localhost:8080/"
        },
        "id": "pSLuTYMoq_60",
        "outputId": "c3208ec5-a5e2-4ee4-a80c-d01b47295fba"
      },
      "execution_count": null,
      "outputs": [
        {
          "output_type": "stream",
          "name": "stdout",
          "text": [
            "      0/ 200000:3.3351\n",
            "  10000/ 200000:2.1054\n",
            "  20000/ 200000:2.1753\n",
            "  30000/ 200000:1.8808\n",
            "  40000/ 200000:2.6164\n",
            "  50000/ 200000:2.1445\n",
            "  60000/ 200000:2.1473\n",
            "  70000/ 200000:2.1318\n",
            "  80000/ 200000:1.4466\n",
            "  90000/ 200000:1.6589\n",
            " 100000/ 200000:2.1074\n",
            " 110000/ 200000:1.9034\n",
            " 120000/ 200000:1.7107\n",
            " 130000/ 200000:2.3677\n",
            " 140000/ 200000:1.8959\n",
            " 150000/ 200000:1.9534\n",
            " 160000/ 200000:1.4245\n",
            " 170000/ 200000:1.7877\n",
            " 180000/ 200000:2.1234\n",
            " 190000/ 200000:1.7120\n"
          ]
        }
      ]
    },
    {
      "cell_type": "code",
      "source": [
        "split_loss(\"train\")\n",
        "split_loss(\"dev\")"
      ],
      "metadata": {
        "colab": {
          "base_uri": "https://localhost:8080/"
        },
        "id": "aHLkHAbM-OEW",
        "outputId": "bdf34293-35a4-4618-aa64-205e60533c3a"
      },
      "execution_count": null,
      "outputs": [
        {
          "output_type": "stream",
          "name": "stdout",
          "text": [
            "train 1.9220895767211914\n",
            "dev 2.0159225463867188\n"
          ]
        }
      ]
    },
    {
      "cell_type": "markdown",
      "source": [
        "# Performance Insights\n",
        "\n",
        "for context length 3 : we got **train-error : 2.06** and **dev-error : 2.11**\n",
        "\n",
        "for context length 8 : we got **train-error : 1.92** and **dev-error : 2.04**\n",
        "\n",
        "flat (wavenet) : we got **train-error : 1.91** and **dev-error : 2.04**"
      ],
      "metadata": {
        "id": "qhU-S6ES-vLQ"
      }
    },
    {
      "cell_type": "code",
      "source": [
        "# As we can see that there is not much improvement in the performance\n",
        "# now lets increase the params a little bit"
      ],
      "metadata": {
        "id": "gsykFTW3-OA8"
      },
      "execution_count": null,
      "outputs": []
    },
    {
      "cell_type": "code",
      "source": [
        "n_embd = 24 # the dimensionality of the character embedding vectors\n",
        "n_hidden = 128 # changing the size to 68 because now the total number or params will be same as before.\n",
        "block_size = 8\n",
        "\n",
        "C = torch.randn((vocab_size,n_embd))\n",
        "model = Sequential([\n",
        "    Embedding(vocab_size,n_embd),\n",
        "    FlattenConsecutive(2), Linear(n_embd*2,n_hidden,bias=False), BatchNorm1d(n_hidden), Tanh(), # changing the input\n",
        "    FlattenConsecutive(2), Linear(n_hidden*2,n_hidden,bias=False), BatchNorm1d(n_hidden), Tanh(), # changing the input\n",
        "    FlattenConsecutive(2), Linear(n_hidden*2,n_hidden,bias=False), BatchNorm1d(n_hidden), Tanh(), # changing the input\n",
        "    Linear(n_hidden,vocab_size),\n",
        "])\n",
        "\n",
        "with torch.no_grad():\n",
        "  # changing this to gamma because it the one that interact with the ouput\n",
        "  model.layers[-1].weight *= 0.1\n",
        "\n",
        "\n",
        "parameters = model.parameters()\n",
        "print(sum(p.nelement() for p in parameters)) #  total number of parameters\n",
        "for p in parameters:\n",
        "  p.requires_grad = True\n"
      ],
      "metadata": {
        "id": "bnBXgoZs-N-S",
        "colab": {
          "base_uri": "https://localhost:8080/"
        },
        "outputId": "c81e2c9f-986b-41b9-9e78-58aa1898f454"
      },
      "execution_count": null,
      "outputs": [
        {
          "output_type": "stream",
          "name": "stdout",
          "text": [
            "76732\n"
          ]
        }
      ]
    },
    {
      "cell_type": "code",
      "source": [
        "# same optimization as last time\n",
        "\n",
        "max_steps = 200_000\n",
        "batch_size = 32\n",
        "lossi= []\n",
        "ud = []\n",
        "\n",
        "for i in range(max_steps):\n",
        "\n",
        "  # mini-batch construct\n",
        "  ix = torch.randint(0, Xtr.shape[0], (batch_size,))\n",
        "  Xb, Yb = Xtr[ix], Ytr[ix]\n",
        "\n",
        "  # forward pass\n",
        "  logits = model(Xb)\n",
        "  loss = F.cross_entropy(logits,Yb) # loss function\n",
        "\n",
        "  # backward pass\n",
        "\n",
        "  for p in parameters:\n",
        "    p.grad = None\n",
        "  loss.backward()\n",
        "\n",
        "  # update\n",
        "  lr = 0.1 if i < 100000 else 0.01 # step learning rate decay\n",
        "  for p in parameters:\n",
        "    p.data += -lr * p.grad\n",
        "\n",
        "  # track stats\n",
        "  if i%10000 == 0:\n",
        "    print(f'{i:7d}/{max_steps:7d}:{loss.item():.4f}')\n",
        "  lossi.append(loss.log10().item())\n",
        "\n",
        "\n",
        "  # if i > 1000:\n",
        "    # break"
      ],
      "metadata": {
        "id": "4HOXlW-G-N8E",
        "colab": {
          "base_uri": "https://localhost:8080/"
        },
        "outputId": "1f94e22d-e210-4e68-b4a4-933771d902df"
      },
      "execution_count": null,
      "outputs": [
        {
          "output_type": "stream",
          "name": "stdout",
          "text": [
            "      0/ 200000:3.3219\n",
            "  10000/ 200000:2.0601\n",
            "  20000/ 200000:2.0973\n",
            "  30000/ 200000:1.6191\n",
            "  40000/ 200000:1.7842\n",
            "  50000/ 200000:2.2750\n",
            "  60000/ 200000:2.0765\n",
            "  70000/ 200000:1.9138\n",
            "  80000/ 200000:1.9408\n",
            "  90000/ 200000:1.9789\n",
            " 100000/ 200000:2.1690\n",
            " 110000/ 200000:1.9758\n",
            " 120000/ 200000:2.0139\n",
            " 130000/ 200000:1.7354\n",
            " 140000/ 200000:1.7329\n",
            " 150000/ 200000:1.6126\n",
            " 160000/ 200000:1.5661\n",
            " 170000/ 200000:1.7806\n",
            " 180000/ 200000:1.3964\n",
            " 190000/ 200000:1.6089\n"
          ]
        }
      ]
    },
    {
      "cell_type": "code",
      "source": [
        "plt.plot(torch.tensor(lossi).view(-1,1000).mean(1))"
      ],
      "metadata": {
        "id": "ha-dAHBl-N48",
        "colab": {
          "base_uri": "https://localhost:8080/",
          "height": 447
        },
        "outputId": "24250c20-3b80-4fc1-822b-f3a087d2a494"
      },
      "execution_count": null,
      "outputs": [
        {
          "output_type": "execute_result",
          "data": {
            "text/plain": [
              "[<matplotlib.lines.Line2D at 0x789021a87200>]"
            ]
          },
          "metadata": {},
          "execution_count": 50
        },
        {
          "output_type": "display_data",
          "data": {
            "text/plain": [
              "<Figure size 640x480 with 1 Axes>"
            ],
            "image/png": "[encoded data removed]"
          },
          "metadata": {}
        }
      ]
    },
    {
      "cell_type": "code",
      "source": [
        "split_loss(\"train\")\n",
        "split_loss(\"dev\")"
      ],
      "metadata": {
        "colab": {
          "base_uri": "https://localhost:8080/"
        },
        "id": "ocBrwWDzMGZ9",
        "outputId": "71ad7a10-8f4e-44db-bc7d-008d3ccfc235"
      },
      "execution_count": null,
      "outputs": [
        {
          "output_type": "stream",
          "name": "stdout",
          "text": [
            "train 1.7833975553512573\n",
            "dev 1.980329990386963\n"
          ]
        }
      ]
    },
    {
      "cell_type": "markdown",
      "source": [
        "# Performance Insights\n",
        "\n",
        "for context length 3 : we got **train-error : 2.06** and **dev-error : 2.11**\n",
        "\n",
        "for context length 8 : we got **train-error : 1.92** and **dev-error : 2.04**\n",
        "\n",
        "flat (wavenet) : we got **train-error : 1.91** and **dev-error : 2.04**\n",
        "\n",
        "scaling the net : we got **train-error : 1.78** and **dev-error : 1.98**"
      ],
      "metadata": {
        "id": "UpdlAgVhP85q"
      }
    },
    {
      "cell_type": "code",
      "source": [],
      "metadata": {
        "id": "L3Qng0pLMGWV"
      },
      "execution_count": null,
      "outputs": []
    },
    {
      "cell_type": "code",
      "source": [],
      "metadata": {
        "id": "UdPH-up0MGTd"
      },
      "execution_count": null,
      "outputs": []
    },
    {
      "cell_type": "code",
      "source": [
        "# Now Convultions, a small brief."
      ],
      "metadata": {
        "id": "T3L-38ywMGQ8"
      },
      "execution_count": null,
      "outputs": []
    },
    {
      "cell_type": "code",
      "source": [
        "# Lets take an example\n",
        "for x,y in zip(Xtr[7:15],Ytr[7:15]):\n",
        "  print(''.join(itos[ix.item()]  for ix in x ), '--->', itos[y.item()])"
      ],
      "metadata": {
        "colab": {
          "base_uri": "https://localhost:8080/"
        },
        "id": "BKqR8gmAMGN_",
        "outputId": "e7ac103f-13e5-4d66-b4a6-d6a943177bb7"
      },
      "execution_count": null,
      "outputs": [
        {
          "output_type": "stream",
          "name": "stdout",
          "text": [
            "<S><S><S><S><S><S><S><S> ---> k\n",
            "<S><S><S><S><S><S><S>k ---> e\n",
            "<S><S><S><S><S><S>ke ---> a\n",
            "<S><S><S><S><S>kea ---> l\n",
            "<S><S><S><S>keal ---> a\n",
            "<S><S><S>keala ---> n\n",
            "<S><S>kealan ---> i\n",
            "<S>kealani ---> <E>\n"
          ]
        }
      ]
    },
    {
      "cell_type": "code",
      "source": [
        "# forward a single example :\n",
        "logits = model(Xtr[[7]]) # why not Xtr[7] -> it causes error due to shapes\n",
        "logits.shape"
      ],
      "metadata": {
        "colab": {
          "base_uri": "https://localhost:8080/"
        },
        "id": "_GM6biBDMGLl",
        "outputId": "ed494e84-4fe7-4a09-df45-a2dac74a3cb9"
      },
      "execution_count": null,
      "outputs": [
        {
          "output_type": "stream",
          "name": "stderr",
          "text": [
            "/tmp/ipython-input-3968922413.py:39: UserWarning: var(): degrees of freedom is <= 0. Correction should be strictly less than the reduction factor (input numel divided by output numel). (Triggered internally at /pytorch/aten/src/ATen/native/ReduceOps.cpp:1839.)\n",
            "  xvar = x.var(dim, keepdim=True) # batch variance\n"
          ]
        },
        {
          "output_type": "execute_result",
          "data": {
            "text/plain": [
              "torch.Size([1, 28])"
            ]
          },
          "metadata": {},
          "execution_count": 54
        }
      ]
    },
    {
      "cell_type": "code",
      "source": [
        "# forwarding all of the above examples\n",
        "logits = torch.zeros(8,28)\n",
        "for i in range(8):\n",
        "  logits[i] = model(Xtr[[7+i]])\n",
        "logits.shape"
      ],
      "metadata": {
        "colab": {
          "base_uri": "https://localhost:8080/"
        },
        "id": "zmWP4SdJQe6A",
        "outputId": "08381db7-1bc5-4b57-f305-d4067723edf1"
      },
      "execution_count": null,
      "outputs": [
        {
          "output_type": "stream",
          "name": "stderr",
          "text": [
            "/tmp/ipython-input-3968922413.py:39: UserWarning: var(): degrees of freedom is <= 0. Correction should be strictly less than the reduction factor (input numel divided by output numel). (Triggered internally at /pytorch/aten/src/ATen/native/ReduceOps.cpp:1839.)\n",
            "  xvar = x.var(dim, keepdim=True) # batch variance\n"
          ]
        },
        {
          "output_type": "execute_result",
          "data": {
            "text/plain": [
              "torch.Size([8, 28])"
            ]
          },
          "metadata": {},
          "execution_count": 55
        }
      ]
    },
    {
      "cell_type": "code",
      "source": [
        "# As we can see above we are manually doing a for loop here, but in convultion layer, the for loop will be handled inside the net,\n",
        "# and it is more efficient because the loop is occuring inside the net in cuda and the inputs slide through the network and if we observe the wavenet image above, it is\n",
        "# basically a tree structure with left and right child and these child values will be calculated once and used multiple times\n",
        "# (twice generally) unlike the above where we have to calculate them again and again."
      ],
      "metadata": {
        "id": "zIOAgd3_Qe2j"
      },
      "execution_count": null,
      "outputs": []
    }
  ]
}